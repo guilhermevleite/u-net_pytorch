{
 "cells": [
  {
   "cell_type": "markdown",
   "id": "876ce62e",
   "metadata": {},
   "source": [
    "# Go  \n",
    "So this should be a small text inside the cell"
   ]
  },
  {
   "cell_type": "markdown",
   "id": "11120a2b",
   "metadata": {},
   "source": [
    "# Not go\n",
    "How this works, **bold**"
   ]
  },
  {
   "cell_type": "code",
   "execution_count": null,
   "id": "c3596e44",
   "metadata": {},
   "outputs": [],
   "source": [
    "print('hello')\n",
    "def main():\n",
    "    crap = 'crap'"
   ]
  },
  {
   "cell_type": "code",
   "execution_count": null,
   "id": "5929a2d4",
   "metadata": {},
   "outputs": [],
   "source": [
    "if 1 == 2:\n",
    "    print('dang')\n",
    "else:\n",
    "    print('dong')"
   ]
  }
 ],
 "metadata": {
  "jupytext": {
   "formats": "ipynb,py:light"
  },
  "kernelspec": {
   "display_name": "Python 3 (ipykernel)",
   "language": "python",
   "name": "python3"
  },
  "language_info": {
   "codemirror_mode": {
    "name": "ipython",
    "version": 3
   },
   "file_extension": ".py",
   "mimetype": "text/x-python",
   "name": "python",
   "nbconvert_exporter": "python",
   "pygments_lexer": "ipython3",
   "version": "3.7.8"
  }
 },
 "nbformat": 4,
 "nbformat_minor": 5
}
