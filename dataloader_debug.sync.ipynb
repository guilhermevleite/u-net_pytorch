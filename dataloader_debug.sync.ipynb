{
 "cells": [
  {
   "cell_type": "markdown",
   "id": "647ecedc",
   "metadata": {},
   "source": [
    "# Dataset"
   ]
  },
  {
   "cell_type": "code",
   "execution_count": 39,
   "id": "f204a817",
   "metadata": {},
   "outputs": [],
   "source": [
    "import os\n",
    "from PIL import Image\n",
    "from torch.utils.data import Dataset\n",
    "import numpy as np\n",
    "import matplotlib.pyplot as plz\n",
    "\n",
    "\n",
    "class MyDataset(Dataset):\n",
    "    def __init__(self, image_dir, mask_dir, transform=None, debug=False):\n",
    "        self.image_dir = image_dir\n",
    "        self.mask_dir = mask_dir\n",
    "        self.transform = transform\n",
    "        self.images = os.listdir(image_dir)\n",
    "        self.debug = debug\n",
    "\n",
    "        print('found', len(self.images))\n",
    "\n",
    "    def __len__(self):\n",
    "        return len(self.images)\n",
    "\n",
    "    def __getitem__(self, index):\n",
    "        img_path = os.path.join(self.image_dir, self.images[index])\n",
    "        mask_path = os.path.join(self.mask_dir, self.images[index])\n",
    "\n",
    "#         if self.debug:\n",
    "#             print('\\tGetting these:\\n\\t', img_path, '\\n\\t', mask_path)\n",
    "\n",
    "        image = Image.open(img_path).convert('RGB')\n",
    "        mask = Image.open(mask_path).convert('L')\n",
    "#         print('Types:', type(image), image.mode, type(mask), mask.mode)\n",
    "\n",
    "        image = self.transform(image)\n",
    "        mask = self.transform(mask)\n",
    "        # print('Types after transform:', type(image), type(mask))\n",
    "\n",
    "#         print('\\tShapes:', image.shape, mask.shape)\n",
    "\n",
    "        # image = np.array(image)\n",
    "        # mask = np.array(mask, dtype=np.float32)\n",
    "\n",
    "        # mask[mask == 255.0] = 1.0\n",
    "        \n",
    "        # print('DEBUG:', self.images[index], image.shape, mask.shape)\n",
    "        return image, mask"
   ]
  },
  {
   "cell_type": "markdown",
   "id": "3e8d862e",
   "metadata": {},
   "source": [
    "# Utils"
   ]
  },
  {
   "cell_type": "code",
   "execution_count": 40,
   "id": "98d7b3dc",
   "metadata": {},
   "outputs": [],
   "source": [
    "from torch.utils.data import DataLoader\n",
    "\n",
    "\n",
    "def get_loaders(\n",
    "  train_dir,\n",
    "  train_maskdir,\n",
    "  val_dir,\n",
    "  val_maskdir,\n",
    "  batch_size,\n",
    "  train_transform,\n",
    "  val_transform,\n",
    "  num_workers=0,\n",
    "  pin_memory=True\n",
    "):\n",
    "    train_ds = MyDataset(\n",
    "        image_dir=train_dir,\n",
    "        mask_dir=train_maskdir,\n",
    "        transform=train_transform,\n",
    "        debug=True\n",
    "    )\n",
    "\n",
    "    train_loader = DataLoader(\n",
    "        train_ds,\n",
    "        batch_size=batch_size,\n",
    "        num_workers=num_workers,\n",
    "        pin_memory=pin_memory,\n",
    "        shuffle=True\n",
    "    )\n",
    "\n",
    "    val_ds = MyDataset(\n",
    "        image_dir=val_dir,\n",
    "        mask_dir=val_maskdir,\n",
    "        transform=val_transform,\n",
    "        debug=True\n",
    "    )\n",
    "\n",
    "    val_loader = DataLoader(\n",
    "        val_ds,\n",
    "        batch_size=batch_size,\n",
    "        num_workers=num_workers,\n",
    "        pin_memory=pin_memory,\n",
    "        shuffle=False\n",
    "    )\n",
    "\n",
    "    return train_loader, val_loader"
   ]
  },
  {
   "cell_type": "code",
   "execution_count": 41,
   "id": "3a94cef5",
   "metadata": {},
   "outputs": [],
   "source": [
    "def render_img(img):\n",
    "# def visualize_n_pair(count, img, mask):\n",
    "\n",
    "    img = img[0].permute((1, 2, 0))\n",
    "\n",
    "    fig, ax = plz.subplots()\n",
    "    ax.imshow(img)\n",
    "    plz.show()\n",
    "#     _, ax = plt.subplots(count+1, 2)\n",
    "\n",
    "#     for i in range(count):\n",
    "\n",
    "#         ax[i, 0].imshow(img)\n",
    "#         ax[i, 1].imshow(mask)\n",
    "#         ax[i, 0].axis('off')\n",
    "#         ax[i, 1].axis('off')\n",
    "#     plt.imshow(img)\n",
    "#     plt.show()"
   ]
  },
  {
   "cell_type": "code",
   "execution_count": 42,
   "id": "7ed62cdc",
   "metadata": {},
   "outputs": [],
   "source": [
    "import torchvision\n",
    "\n",
    "\n",
    "def i_show(img, one_channel=False):\n",
    "    if one_channel:\n",
    "        plt.imshow(img, cmap=\"Greys\")\n",
    "    else:\n",
    "        plt.imshow(img)"
   ]
  },
  {
   "cell_type": "markdown",
   "id": "c0cbebcb",
   "metadata": {},
   "source": [
    "# Caller"
   ]
  },
  {
   "cell_type": "code",
   "execution_count": 43,
   "id": "6062af58",
   "metadata": {},
   "outputs": [
    {
     "name": "stdout",
     "output_type": "stream",
     "text": [
      "found 352\n",
      "found 4\n",
      "Loaded 352 traning batches, 4 validation batches.\n"
     ]
    },
    {
     "data": {
      "image/png": "[encoded data removed]",
      "text/plain": [
       "<Figure size 432x288 with 1 Axes>"
      ]
     },
     "metadata": {
      "needs_background": "light"
     },
     "output_type": "display_data"
    }
   ],
   "source": [
    "import torchvision.transforms as transforms\n",
    "\n",
    "\n",
    "local = True\n",
    "path_suffix = None\n",
    "\n",
    "if local:\n",
    "    path_suffix = '/home/leite/Drive/'\n",
    "else:\n",
    "    path_suffix = '/content/drive/MyDrive/'\n",
    "\n",
    "t_dir = path_suffix + 'db/segmentation/FL5C/train/images/'\n",
    "t_mask_dir = path_suffix + 'db/segmentation/FL5C/train/masks/'\n",
    "v_dir = path_suffix + 'db/segmentation/FL5C/val/images/'\n",
    "v_mask_dir = path_suffix + 'db/segmentation/FL5C/val/masks/'\n",
    "\n",
    "batch = 1\n",
    "\n",
    "t_transform = transforms.Compose([\n",
    "    transforms.Resize((300, 300)),\n",
    "    transforms.ToTensor(),\n",
    "    ])\n",
    "\n",
    "v_transform = transforms.Compose([\n",
    "    transforms.Resize((300, 300)),\n",
    "    transforms.ToTensor(),\n",
    "    ])\n",
    "\n",
    "t_loader, v_loader = get_loaders(\n",
    "        t_dir,\n",
    "        t_mask_dir,\n",
    "        v_dir,\n",
    "        v_mask_dir,\n",
    "        batch,\n",
    "        t_transform,\n",
    "        v_transform)\n",
    "\n",
    "print('Loaded {} traning batches, {} validation batches.'.format(t_loader.__len__(), v_loader.__len__()))\n",
    "\n",
    "# print('Traning:')\n",
    "# for i, data in enumerate(t_loader):\n",
    "    # if i >= 1:\n",
    "        # break\n",
    "\n",
    "# print('Validating')\n",
    "# for i, data in enumerate(v_loader):\n",
    "    # if i >= 1:\n",
    "        # break\n",
    "\n",
    "t_dataiter = iter(t_loader)\n",
    "v_dataiter = iter(v_loader)\n",
    "\n",
    "img, label = t_dataiter.next()\n",
    "v_img, v_label = v_dataiter.next()\n",
    "\n",
    "# img_grid = torchvision.utils.make_grid(img)\n",
    "# i_show(img_grid, one_channel=True)\n",
    "render_img(img)"
   ]
  }
 ],
 "metadata": {
  "jupytext": {
   "formats": "ipynb,py:percent"
  },
  "kernelspec": {
   "display_name": "Python 3 (ipykernel)",
   "language": "python",
   "name": "python3"
  },
  "language_info": {
   "codemirror_mode": {
    "name": "ipython",
    "version": 3
   },
   "file_extension": ".py",
   "mimetype": "text/x-python",
   "name": "python",
   "nbconvert_exporter": "python",
   "pygments_lexer": "ipython3",
   "version": "3.7.8"
  }
 },
 "nbformat": 4,
 "nbformat_minor": 5
}
