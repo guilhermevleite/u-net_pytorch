{
 "cells": [
  {
   "cell_type": "markdown",
   "id": "eb8c8de3",
   "metadata": {},
   "source": [
    "# Github stuff"
   ]
  },
  {
   "cell_type": "markdown",
   "id": "ba89c931",
   "metadata": {},
   "source": [
    "## Clone"
   ]
  },
  {
   "cell_type": "code",
   "execution_count": 2,
   "id": "bb267247",
   "metadata": {},
   "outputs": [
    {
     "name": "stdout",
     "output_type": "stream",
     "text": [
      "Cloning into 'unet'...\n",
      "remote: Enumerating objects: 34, done.\u001b[K\n",
      "remote: Counting objects: 100% (34/34), done.\u001b[K\n",
      "remote: Compressing objects: 100% (25/25), done.\u001b[K\n",
      "remote: Total 34 (delta 10), reused 30 (delta 6), pack-reused 0\u001b[K\n",
      "Unpacking objects: 100% (34/34), 16.03 KiB | 1.34 MiB/s, done.\n",
      "/home/leite/Workspace/deep_learning/u-net/unet\n"
     ]
    }
   ],
   "source": [
    "!git clone https://github.com/guilhermevleite/u-net_pytorch unet\n",
    "%cd unet"
   ]
  },
  {
   "cell_type": "markdown",
   "id": "b0d5f005",
   "metadata": {},
   "source": [
    "## Pull"
   ]
  },
  {
   "cell_type": "code",
   "execution_count": 3,
   "id": "2e2de476",
   "metadata": {},
   "outputs": [
    {
     "name": "stdout",
     "output_type": "stream",
     "text": [
      "Already up to date.\r\n"
     ]
    }
   ],
   "source": [
    "!git pull"
   ]
  },
  {
   "cell_type": "markdown",
   "id": "92b19a0d",
   "metadata": {},
   "source": [
    "## Commit changes"
   ]
  },
  {
   "cell_type": "code",
   "execution_count": null,
   "id": "e759ae80",
   "metadata": {},
   "outputs": [
    {
     "name": "stdout",
     "output_type": "stream",
     "text": [
      "On branch master\n",
      "Your branch is up to date with 'origin/master'.\n",
      "\n",
      "nothing to commit, working tree clean\n",
      "Username for 'https://github.com': "
     ]
    }
   ],
   "source": [
    "!git add . \n",
    "!git commit -m 'changes made in colab'\n",
    "!git push"
   ]
  },
  {
   "cell_type": "markdown",
   "id": "5b107c3d",
   "metadata": {},
   "source": [
    "# Requirements"
   ]
  },
  {
   "cell_type": "code",
   "execution_count": null,
   "id": "dfc2c11e",
   "metadata": {},
   "outputs": [],
   "source": [
    "# Install albumentations, with qudida\n",
    "# TODO: Find a way to not use albumentations at all\n",
    "!pip install -U albumentations --no-binary qudida,albumentations\n",
    "\n",
    "# IF cv2 is not working:\n",
    "!pip uninstall opencv-python-headless==4.5.5.64\n",
    "!pip install opencv-python-headless==4.5.2.52"
   ]
  },
  {
   "cell_type": "markdown",
   "id": "79d52b32",
   "metadata": {},
   "source": [
    "# U-Net"
   ]
  },
  {
   "cell_type": "code",
   "execution_count": null,
   "id": "c3596e44",
   "metadata": {},
   "outputs": [],
   "source": [
    "from google.colab import drive\n",
    "drive.mount('/content/drive')"
   ]
  },
  {
   "cell_type": "code",
   "execution_count": null,
   "id": "e2ee7266",
   "metadata": {},
   "outputs": [],
   "source": [
    "import torch\n",
    "import drive.MyDrive.segmentation.unet.lib.train as Train\n",
    "\n",
    "\n",
    "class Spheroid():\n",
    "\n",
    "    def __init__(self):\n",
    "        learning_rate = 1e-4\n",
    "        batch_size = 32\n",
    "        num_epochs = 5\n",
    "        num_workers = 2\n",
    "        image_width = 240\n",
    "        image_height = 160\n",
    "        pin_memory = True\n",
    "        load_model = False\n",
    "\n",
    "        train_img_dir = '/content/drive/MyDrive/db/segmentation/FL5C/train/images/'\n",
    "        train_mask_dir = '/content/drive/MyDrive/db/segmentation/FL5C/train/masks/'\n",
    "        val_img_dir = '/content/drive/MyDrive/db/segmentation/FL5C/val/images/'\n",
    "        val_mask_dir = '/content/drive/MyDrive/db/segmentation/FL5C/val/masks/'\n",
    "\n",
    "        device = 'cuda' if torch.cuda.is_available() else 'cpu'\n",
    "\n",
    "\n",
    "    def main():\n",
    "        data_loader, trained_model = Train.main()"
   ]
  },
  {
   "cell_type": "code",
   "execution_count": null,
   "id": "e1cb8a33",
   "metadata": {},
   "outputs": [],
   "source": [
    "Spheroid.main()"
   ]
  },
  {
   "cell_type": "code",
   "execution_count": null,
   "id": "a04527c2",
   "metadata": {},
   "outputs": [],
   "source": []
  }
 ],
 "metadata": {
  "jupytext": {
   "formats": "ipynb,py:light"
  },
  "kernelspec": {
   "display_name": "Python 3 (ipykernel)",
   "language": "python",
   "name": "python3"
  },
  "language_info": {
   "codemirror_mode": {
    "name": "ipython",
    "version": 3
   },
   "file_extension": ".py",
   "mimetype": "text/x-python",
   "name": "python",
   "nbconvert_exporter": "python",
   "pygments_lexer": "ipython3",
   "version": "3.7.8"
  }
 },
 "nbformat": 4,
 "nbformat_minor": 5
}
