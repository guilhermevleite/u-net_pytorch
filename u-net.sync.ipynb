{
 "cells": [
  {
   "cell_type": "markdown",
   "id": "eb8c8de3",
   "metadata": {},
   "source": [
    "# Github stuff"
   ]
  },
  {
   "cell_type": "markdown",
   "id": "ba89c931",
   "metadata": {},
   "source": [
    "## Clone"
   ]
  },
  {
   "cell_type": "code",
   "execution_count": null,
   "id": "bb267247",
   "metadata": {},
   "outputs": [],
   "source": [
    "!git clone https://github.com/guilhermevleite/u-net_pytorch unet\n",
    "%cd unet"
   ]
  },
  {
   "cell_type": "markdown",
   "id": "b0d5f005",
   "metadata": {},
   "source": [
    "## Pull"
   ]
  },
  {
   "cell_type": "code",
   "execution_count": null,
   "id": "2e2de476",
   "metadata": {},
   "outputs": [],
   "source": [
    "!git pull"
   ]
  },
  {
   "cell_type": "markdown",
   "id": "92b19a0d",
   "metadata": {},
   "source": [
    "## Commit changes"
   ]
  },
  {
   "cell_type": "code",
   "execution_count": null,
   "id": "e759ae80",
   "metadata": {},
   "outputs": [],
   "source": [
    "!git add . \n",
    "!git commit -m 'changes made in colab'\n",
    "!git push"
   ]
  },
  {
   "cell_type": "markdown",
   "id": "5b107c3d",
   "metadata": {},
   "source": [
    "# Requirements"
   ]
  },
  {
   "cell_type": "code",
   "execution_count": null,
   "id": "dfc2c11e",
   "metadata": {},
   "outputs": [],
   "source": [
    "# Install albumentations, with qudida\n",
    "# TODO: Find a way to not use albumentations at all\n",
    "!pip install --upgrade --force-reinstall --no-deps qudida==0.0.4\n",
    "!pip install --upgrade --force-reinstall --no-deps albumentations==1.1.0\n",
    "\n",
    "# IF cv2 is not working:\n",
    "!pip uninstall opencv-python-headless==4.5.5.64\n",
    "!pip install opencv-python-headless==4.5.2.52"
   ]
  },
  {
   "cell_type": "markdown",
   "id": "79d52b32",
   "metadata": {},
   "source": [
    "# U-Net"
   ]
  },
  {
   "cell_type": "code",
   "execution_count": null,
   "id": "c3596e44",
   "metadata": {},
   "outputs": [],
   "source": [
    "from google.colab import drive\n",
    "drive.mount('/content/drive')"
   ]
  },
  {
   "cell_type": "code",
   "execution_count": null,
   "id": "e2ee7266",
   "metadata": {},
   "outputs": [],
   "source": [
    "import torch\n",
    "import torch.nn as nn\n",
    "import train as Train\n",
    "from model import UNET\n",
    "\n",
    "\n",
    "# train_dir = \"/content/drive/MyDrive/DB/FL5C/train/images/\"\n",
    "train_dir = '/home/leite/Drive/db/segmentation/FL5C/train/images/'\n",
    "# train_maskdir = \"/content/drive/MyDrive/DB/FL5C/train/masks/\"\n",
    "train_maskdir = '/home/leite/Drive/db/segmentation/FL5C/train/masks/'\n",
    "# val_dir = \"/content/drive/MyDrive/DB/FL5C/val/images/\"\n",
    "val_dir = '/home/leite/Drive/db/segmentation/FL5C/val/images/'\n",
    "# val_maskdir = \"/content/drive/MyDrive/DB/FL5C/val/masks/\"\n",
    "val_maskdir = '/home/leite/Drive/db/segmentation/FL5C/val/masks/'\n",
    "\n",
    "l_func = nn.BCEWithLogitsLoss()\n",
    "\n",
    "print('Hello!')\n",
    "# TODO: Define optimizer out here\n",
    "unet_train = Train.Train(\n",
    "        train_dir=train_dir,\n",
    "        train_maskdir=train_maskdir,\n",
    "        val_dir=val_dir,\n",
    "        val_maskdir=val_maskdir,\n",
    "        batch_size=32,\n",
    "        n_epochs=5,\n",
    "        n_workers=2,\n",
    "        learning_rate=1e-4,\n",
    "        img_height=160,\n",
    "        img_width=240,\n",
    "        device='cuda' if torch.cuda.is_available() else 'cpu',\n",
    "        model=UNET(in_channels=3, out_channels=1),\n",
    "        loss_fn=l_func\n",
    "        )\n",
    "\n",
    "print(type(unet_train))\n",
    "\n",
    "unet_train.training()"
   ]
  }
 ],
 "metadata": {
  "jupytext": {
   "formats": "ipynb,py:light"
  },
  "kernelspec": {
   "display_name": "Python 3 (ipykernel)",
   "language": "python",
   "name": "python3"
  },
  "language_info": {
   "codemirror_mode": {
    "name": "ipython",
    "version": 3
   },
   "file_extension": ".py",
   "mimetype": "text/x-python",
   "name": "python",
   "nbconvert_exporter": "python",
   "pygments_lexer": "ipython3",
   "version": "3.7.8"
  }
 },
 "nbformat": 4,
 "nbformat_minor": 5
}
