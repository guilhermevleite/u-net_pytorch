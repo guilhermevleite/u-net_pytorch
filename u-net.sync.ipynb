{
 "cells": [
  {
   "cell_type": "markdown",
   "id": "79d52b32",
   "metadata": {},
   "source": [
    "# U-Net"
   ]
  },
  {
   "cell_type": "code",
   "execution_count": null,
   "id": "c3596e44",
   "metadata": {},
   "outputs": [],
   "source": [
    "from google.colab import drive\n",
    "drive.mount('/content/drive')"
   ]
  },
  {
   "cell_type": "code",
   "execution_count": null,
   "id": "e2ee7266",
   "metadata": {},
   "outputs": [],
   "source": [
    "import torch\n",
    "import drive.MyDrive.segmentation.unet.lib.train as Train\n",
    "\n",
    "\n",
    "class Spheroid():\n",
    "\n",
    "    def __init__(self):\n",
    "        learning_rate = 1e-4\n",
    "        batch_size = 32\n",
    "        num_epochs = 5\n",
    "        num_workers = 2\n",
    "        image_width = 240\n",
    "        image_height = 160\n",
    "        pin_memory = True\n",
    "        load_model = False\n",
    "\n",
    "        train_img_dir = '/content/drive/MyDrive/db/segmentation/FL5C/train/images/'\n",
    "        train_mask_dir = '/content/drive/MyDrive/db/segmentation/FL5C/train/masks/'\n",
    "        val_img_dir = '/content/drive/MyDrive/db/segmentation/FL5C/val/images/'\n",
    "        val_mask_dir = '/content/drive/MyDrive/db/segmentation/FL5C/val/masks/'\n",
    "\n",
    "        device = 'cuda' if torch.cuda.is_available() else 'cpu'\n",
    "\n",
    "\n",
    "    def main():\n",
    "        data_loader, trained_model = Train.main()"
   ]
  },
  {
   "cell_type": "code",
   "execution_count": null,
   "id": "e1cb8a33",
   "metadata": {},
   "outputs": [],
   "source": [
    "Spheroid.main()"
   ]
  }
 ],
 "metadata": {
  "jupytext": {
   "formats": "ipynb,py:light"
  },
  "kernelspec": {
   "display_name": "Python 3 (ipykernel)",
   "language": "python",
   "name": "python3"
  },
  "language_info": {
   "codemirror_mode": {
    "name": "ipython",
    "version": 3
   },
   "file_extension": ".py",
   "mimetype": "text/x-python",
   "name": "python",
   "nbconvert_exporter": "python",
   "pygments_lexer": "ipython3",
   "version": "3.7.8"
  }
 },
 "nbformat": 4,
 "nbformat_minor": 5
}
